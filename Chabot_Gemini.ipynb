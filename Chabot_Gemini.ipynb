{
 "cells": [
  {
   "cell_type": "code",
   "execution_count": null,
   "id": "192fc8c4-d1b1-4226-81c3-6b9e712e23e8",
   "metadata": {},
   "outputs": [],
   "source": [
    "import os\n",
    "import google.generativeai as genai\n",
    "from IPython.display import display, Markdown\n",
    "import PIL.Image\n",
    "\n",
    "api_key = os.getenv('GEMINI_API_KEY')\n",
    "if not api_key:\n",
    "    raise ValueError(\"API key not found. Please set the GEMINI_API_KEY environment variable.\")\n",
    "\n",
    "model = genai.GenerativeModel('gemini-pro')\n",
    "chat = model.start_chat(history=[])\n",
    "\n",
    "try:\n",
    "    while True:\n",
    "        user_message = input(\"You (type 'exit' to stop ): \")\n",
    "        \n",
    "        if user_message.lower() == 'exit':\n",
    "            print(\"Exiting the chat. Goodbye!\")\n",
    "            break  \n",
    "\n",
    "        response = chat.send_message(user_message)\n",
    "        \n",
    "\n",
    "        print(\"\\n\" + \"=\"*40)\n",
    "        display(Markdown(f\"**You:** {user_message}\"))\n",
    "        \n",
    "\n",
    "        display(Markdown(f\"**Model:** {response.text}\"))\n",
    "        print(\"=\"*40 + \"\\n\") \n",
    "\n",
    "except Exception as e:\n",
    "    print(\"An error occurred:\", str(e))\n"
   ]
  },
  {
   "cell_type": "code",
   "execution_count": null,
   "id": "ae2c21cc-68ec-4d60-973b-d5af35e23c07",
   "metadata": {},
   "outputs": [],
   "source": []
  },
  {
   "cell_type": "code",
   "execution_count": null,
   "id": "111e2252-7c24-47f5-bdb6-16367f08c946",
   "metadata": {},
   "outputs": [],
   "source": []
  }
 ],
 "metadata": {
  "kernelspec": {
   "display_name": "Python 3 (ipykernel)",
   "language": "python",
   "name": "python3"
  },
  "language_info": {
   "codemirror_mode": {
    "name": "ipython",
    "version": 3
   },
   "file_extension": ".py",
   "mimetype": "text/x-python",
   "name": "python",
   "nbconvert_exporter": "python",
   "pygments_lexer": "ipython3",
   "version": "3.10.12"
  }
 },
 "nbformat": 4,
 "nbformat_minor": 5
}
