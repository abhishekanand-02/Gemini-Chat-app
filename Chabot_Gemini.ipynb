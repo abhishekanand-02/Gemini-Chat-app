{
 "cells": [
  {
   "cell_type": "code",
   "execution_count": null,
   "id": "7dcba1e6-09fc-4406-b1d4-67acd8eedb70",
   "metadata": {},
   "outputs": [],
   "source": [
    "import os\n",
    "import google.generativeai as genai\n",
    "from IPython.display import display, Markdown\n",
    "import PIL.Image\n",
    "\n",
    "api_key = os.getenv('GEMINI_API_KEY')\n",
    "if not api_key:\n",
    "    raise ValueError(\"API key not found. Please set the GEMINI_API_KEY environment variable.\")\n",
    "\n",
    "\n",
    "model = genai.GenerativeModel(\"gemini-1.5-flash\")\n",
    "response = model.generate_content(\"Write an essay on Corporate Life make sure Starting , body and conclusion should be great.write in Hindi\")\n",
    "display(Markdown(response.text))\n"
   ]
  },
  {
   "cell_type": "code",
   "execution_count": null,
   "id": "efa28e47-c542-4e62-aed9-2126dfbb450c",
   "metadata": {},
   "outputs": [],
   "source": [
    "%%time\n",
    "image=PIL.Image.open('/home/abhishek.anand/groom-3452735_640.jpg')\n",
    "display(image)\n",
    "model = genai.GenerativeModel('gemini-1.5-flash')\n",
    "response = model.generate_content(image)\n",
    "display(Markdown(response.text))"
   ]
  },
  {
   "cell_type": "code",
   "execution_count": null,
   "id": "192fc8c4-d1b1-4226-81c3-6b9e712e23e8",
   "metadata": {},
   "outputs": [
    {
     "name": "stdin",
     "output_type": "stream",
     "text": [
      "You (type 'exit' to stop ):  I want to upload this code on Github . Analyze this code and make a readme file in detailed like - what this code will do , what i used here , what Kind of feature this code will provide . Also tell me how to upload this on github step by step using commands from starting.\n"
     ]
    },
    {
     "name": "stdout",
     "output_type": "stream",
     "text": [
      "\n",
      "========================================\n"
     ]
    },
    {
     "data": {
      "text/markdown": [
       "**You:** I want to upload this code on Github . Analyze this code and make a readme file in detailed like - what this code will do , what i used here , what Kind of feature this code will provide . Also tell me how to upload this on github step by step using commands from starting."
      ],
      "text/plain": [
       "<IPython.core.display.Markdown object>"
      ]
     },
     "metadata": {},
     "output_type": "display_data"
    },
    {
     "data": {
      "text/markdown": [
       "**Model:** **Code Analysis**\n",
       "\n",
       "This code creates a simple web application using the Flask framework that provides the following features:\n",
       "\n",
       "* **Homepage:** Displays a welcome message and a form to enter a name.\n",
       "* **Name Submission:** Submitting a name triggers a function that displays a personalized welcome message to the user.\n",
       "* **Error Handling:** Validates input and displays an error message if an empty name is entered.\n",
       "\n",
       "**Technologies Used:**\n",
       "\n",
       "* Python\n",
       "* Flask\n",
       "* HTML\n",
       "* CSS\n",
       "\n",
       "**How to Upload the Code to GitHub**\n",
       "\n",
       "**Step 1: Create a GitHub Repository**\n",
       "\n",
       "* Visit https://github.com and sign in or create an account.\n",
       "* Click on \"New repository\" in the top-right corner.\n",
       "* Enter a name for your repository (e.g., \"flask-welcome-app\").\n",
       "* Add a description if desired.\n",
       "* Click \"Create repository\".\n",
       "\n",
       "**Step 2: Initialize a Local Git Repository**\n",
       "\n",
       "* Open your terminal or command prompt.\n",
       "* Navigate to the directory where your code is located.\n",
       "* Initialize a new Git repository by running the command: `git init`\n",
       "\n",
       "**Step 3: Add the Code to Git**\n",
       "\n",
       "* Add all the code files to the staging area: `git add .`\n",
       "* Commit the changes: `git commit -m \"Initial commit\"`\n",
       "\n",
       "**Step 4: Link Your Local Repository to the Remote Repository**\n",
       "\n",
       "* Add the remote repository as a remote branch: `git remote add origin https://github.com/YOUR_USERNAME/flask-welcome-app.git`\n",
       "* Replace \"YOUR_USERNAME\" with your actual GitHub username.\n",
       "\n",
       "**Step 5: Push the Code to GitHub**\n",
       "\n",
       "* Push the code to the remote repository: `git push origin main`\n",
       "* Replace \"main\" with the name of the branch you want to push to (if applicable).\n",
       "\n",
       "**Readme File**\n",
       "\n",
       "**Title:** Flask Welcome Application\n",
       "\n",
       "**Description:**\n",
       "\n",
       "This Flask web application provides a simple interface to welcome users with a personalized message based on the name they enter. It features:\n",
       "\n",
       "* Homepage with a welcome message and name input form\n",
       "* Personalized welcome message upon name submission\n",
       "* Error handling for empty name entries\n",
       "\n",
       "**Usage:**\n",
       "\n",
       "1. Clone the repository to your local machine.\n",
       "2. Install the required Python packages (Flask, etc.).\n",
       "3. Run the application using the command: `flask run`\n",
       "4. Visit `http://localhost:5000` in your browser.\n",
       "\n",
       "**Features:**\n",
       "\n",
       "* User-friendly interface\n",
       "* Customizable welcome messages\n",
       "* Input validation\n",
       "\n",
       "**Contributing:**\n",
       "\n",
       "Contributions are welcome. Please follow the guidelines in the CONTRIBUTING.md file."
      ],
      "text/plain": [
       "<IPython.core.display.Markdown object>"
      ]
     },
     "metadata": {},
     "output_type": "display_data"
    },
    {
     "name": "stdout",
     "output_type": "stream",
     "text": [
      "========================================\n",
      "\n"
     ]
    },
    {
     "name": "stdin",
     "output_type": "stream",
     "text": [
      "You (type 'exit' to stop ):  I want to upload this code on Github . Analyze this code and make a readme file in detailed like - what this code will do , what i used here , what Kind of feature this code will provide . Also tell me how to upload this on github step by step using commands from starting.import os import google.generativeai as genai from IPython.display import display, Markdown import PIL.Image  api_key = os.getenv('GEMINI_API_KEY') if not api_key:     raise ValueError(\"API key not found. Please set the GEMINI_API_KEY environment variable.\")  model = genai.GenerativeModel('gemini-pro') chat = model.start_chat(history=[])  try:     while True:         user_message = input(\"You (type 'exit' to stop ): \")                  if user_message.lower() == 'exit':             print(\"Exiting the chat. Goodbye!\")             break            response = chat.send_message(user_message)                   print(\"\\n\" + \"=\"*40)         display(Markdown(f\"**You:** {user_message}\"))                   display(Markdown(f\"**Model:** {response.text}\"))         print(\"=\"*40 + \"\\n\")   except Exception as e:     print(\"An error occurred:\", str(e))\n"
     ]
    },
    {
     "name": "stdout",
     "output_type": "stream",
     "text": [
      "\n",
      "========================================\n"
     ]
    },
    {
     "data": {
      "text/markdown": [
       "**You:** I want to upload this code on Github . Analyze this code and make a readme file in detailed like - what this code will do , what i used here , what Kind of feature this code will provide . Also tell me how to upload this on github step by step using commands from starting.import os import google.generativeai as genai from IPython.display import display, Markdown import PIL.Image  api_key = os.getenv('GEMINI_API_KEY') if not api_key:     raise ValueError(\"API key not found. Please set the GEMINI_API_KEY environment variable.\")  model = genai.GenerativeModel('gemini-pro') chat = model.start_chat(history=[])  try:     while True:         user_message = input(\"You (type 'exit' to stop ): \")                  if user_message.lower() == 'exit':             print(\"Exiting the chat. Goodbye!\")             break            response = chat.send_message(user_message)                   print(\"\\n\" + \"=\"*40)         display(Markdown(f\"**You:** {user_message}\"))                   display(Markdown(f\"**Model:** {response.text}\"))         print(\"=\"*40 + \"\\n\")   except Exception as e:     print(\"An error occurred:\", str(e))"
      ],
      "text/plain": [
       "<IPython.core.display.Markdown object>"
      ]
     },
     "metadata": {},
     "output_type": "display_data"
    },
    {
     "data": {
      "text/markdown": [
       "**Model:** **Code Analysis**\n",
       "\n",
       "This code demonstrates a simple interactive chat interface using Google's Gemini-Pro generative AI model. It allows you to have a text-based conversation with the model, where you can type in messages and the model will respond with its own generated text. The code includes the following features:\n",
       "\n",
       "* **Text-Based Chat Interface:** Provides a simple command-line interface for interacting with the AI model.\n",
       "* **Natural Language Processing:** Uses the Gemini-Pro model to generate human-like responses to user input.\n",
       "* **Error Handling:** Catches and displays any errors that may occur during the chat session.\n",
       "\n",
       "**Technologies Used:**\n",
       "\n",
       "* Python\n",
       "* Google Generative AI (Gemini-Pro)\n",
       "* IPython\n",
       "* PIL.Image\n",
       "\n",
       "**How to Upload the Code to GitHub**\n",
       "\n",
       "**Step 1: Create a GitHub Repository**\n",
       "\n",
       "* Visit https://github.com and sign in or create an account.\n",
       "* Click on \"New repository\" in the top-right corner.\n",
       "* Enter a name for your repository (e.g., \"gemini-chat-app\").\n",
       "* Add a description if desired.\n",
       "* Click \"Create repository\".\n",
       "\n",
       "**Step 2: Initialize a Local Git Repository**\n",
       "\n",
       "* Open your terminal or command prompt.\n",
       "* Navigate to the directory where your code is located.\n",
       "* Initialize a new Git repository by running the command: `git init`\n",
       "\n",
       "**Step 3: Add the Code to Git**\n",
       "\n",
       "* Add all the code files to the staging area: `git add .`\n",
       "* Commit the changes: `git commit -m \"Initial commit\"`\n",
       "\n",
       "**Step 4: Link Your Local Repository to the Remote Repository**\n",
       "\n",
       "* Add the remote repository as a remote branch: `git remote add origin https://github.com/YOUR_USERNAME/gemini-chat-app.git`\n",
       "* Replace \"YOUR_USERNAME\" with your actual GitHub username.\n",
       "\n",
       "**Step 5: Push the Code to GitHub**\n",
       "\n",
       "* Push the code to the remote repository: `git push origin main`\n",
       "* Replace \"main\" with the name of the branch you want to push to (if applicable).\n",
       "\n",
       "**Readme File**\n",
       "\n",
       "**Title:** Gemini Chat Application\n",
       "\n",
       "**Description:**\n",
       "\n",
       "This interactive chat application uses Google's Gemini-Pro generative AI model to provide a text-based chat interface. Users can type in messages and receive natural language responses from the model.\n",
       "\n",
       "**Usage:**\n",
       "\n",
       "1. Clone the repository to your local machine.\n",
       "2. Install the required Python packages (google-generativeai, etc.).\n",
       "3. Set the GEMINI_API_KEY environment variable with your API key.\n",
       "4. Run the application using the command: `python gemini_chat.py`\n",
       "\n",
       "**Features:**\n",
       "\n",
       "* Text-based chat interface\n",
       "* Natural language processing\n",
       "* Error handling\n",
       "\n",
       "**Contributing:**\n",
       "\n",
       "Contributions are welcome. Please follow the guidelines in the CONTRIBUTING.md file.\n",
       "\n",
       "**Note:** You will need to obtain a valid API key from Google to use this application."
      ],
      "text/plain": [
       "<IPython.core.display.Markdown object>"
      ]
     },
     "metadata": {},
     "output_type": "display_data"
    },
    {
     "name": "stdout",
     "output_type": "stream",
     "text": [
      "========================================\n",
      "\n"
     ]
    },
    {
     "name": "stdin",
     "output_type": "stream",
     "text": [
      "You (type 'exit' to stop ):  Write code for readme.md file use some icons and focus on what technology I used , What this code will do , future enhancements , Use cases Also mention that To create a  variable at bashrc to store gemini api key secretly. \n"
     ]
    },
    {
     "name": "stdout",
     "output_type": "stream",
     "text": [
      "\n",
      "========================================\n"
     ]
    },
    {
     "data": {
      "text/markdown": [
       "**You:** Write code for readme.md file use some icons and focus on what technology I used , What this code will do , future enhancements , Use cases Also mention that To create a  variable at bashrc to store gemini api key secretly. "
      ],
      "text/plain": [
       "<IPython.core.display.Markdown object>"
      ]
     },
     "metadata": {},
     "output_type": "display_data"
    },
    {
     "data": {
      "text/markdown": [
       "**Model:** **README.md**\n",
       "\n",
       "## Gemini Chat Application :chat:\n",
       "\n",
       "**Description**\n",
       "\n",
       "This interactive chat application uses Google's Gemini-Pro generative AI model to provide a text-based chat interface. :robot: Users can type in messages and receive natural language responses from the model. :speech_balloon:\n",
       "\n",
       "**Features**\n",
       "\n",
       "- Text-based chat interface\n",
       "- Natural language processing\n",
       "- Error handling\n",
       "\n",
       "**Technologies Used**\n",
       "\n",
       "- Python :python:\n",
       "- Google Generative AI (Gemini-Pro) :google:\n",
       "- IPython :jupyter:\n",
       "- PIL.Image :camera:\n",
       "\n",
       "**Future Enhancements**\n",
       "\n",
       "- Add support for multiple chat sessions\n",
       "- Implement a graphical user interface (GUI)\n",
       "- Integrate with other AI models for additional functionality\n",
       "\n",
       "**Use Cases**\n",
       "\n",
       "- Customer service chatbots\n",
       "- Language learning assistants\n",
       "- Creative writing tools\n",
       "\n",
       "**Setup**\n",
       "\n",
       "1. Clone the repository to your local machine.\n",
       "2. Install the required Python packages (google-generativeai, etc.).\n",
       "3. Create a variable in your `.bashrc` file to store your Gemini API key securely:\n",
       "\n",
       "```\n",
       "export GEMINI_API_KEY=\"YOUR_API_KEY\"\n",
       "```\n",
       "\n",
       "4. Run the application using the command:\n",
       "\n",
       "```\n",
       "python gemini_chat.py\n",
       "```\n",
       "\n",
       "**Contributing**\n",
       "\n",
       "Contributions are welcome. Please follow the guidelines in the CONTRIBUTING.md file.\n",
       "\n",
       "**Note:** You will need to obtain a valid API key from Google to use this application.\n",
       "\n",
       "**Icons used:**\n",
       "\n",
       "- :chat: Chat icon\n",
       "- :robot: Robot icon\n",
       "- :speech_balloon: Speech balloon icon\n",
       "- :python: Python icon\n",
       "- :google: Google icon\n",
       "- :jupyter: Jupyter icon\n",
       "- :camera: Camera icon"
      ],
      "text/plain": [
       "<IPython.core.display.Markdown object>"
      ]
     },
     "metadata": {},
     "output_type": "display_data"
    },
    {
     "name": "stdout",
     "output_type": "stream",
     "text": [
      "========================================\n",
      "\n"
     ]
    }
   ],
   "source": [
    "import os\n",
    "import google.generativeai as genai\n",
    "from IPython.display import display, Markdown\n",
    "import PIL.Image\n",
    "\n",
    "api_key = os.getenv('GEMINI_API_KEY')\n",
    "if not api_key:\n",
    "    raise ValueError(\"API key not found. Please set the GEMINI_API_KEY environment variable.\")\n",
    "\n",
    "model = genai.GenerativeModel('gemini-pro')\n",
    "chat = model.start_chat(history=[])\n",
    "\n",
    "try:\n",
    "    while True:\n",
    "        user_message = input(\"You (type 'exit' to stop ): \")\n",
    "        \n",
    "        if user_message.lower() == 'exit':\n",
    "            print(\"Exiting the chat. Goodbye!\")\n",
    "            break  \n",
    "\n",
    "        response = chat.send_message(user_message)\n",
    "        \n",
    "\n",
    "        print(\"\\n\" + \"=\"*40)\n",
    "        display(Markdown(f\"**You:** {user_message}\"))\n",
    "        \n",
    "\n",
    "        display(Markdown(f\"**Model:** {response.text}\"))\n",
    "        print(\"=\"*40 + \"\\n\") \n",
    "\n",
    "except Exception as e:\n",
    "    print(\"An error occurred:\", str(e))\n"
   ]
  },
  {
   "cell_type": "code",
   "execution_count": null,
   "id": "ae2c21cc-68ec-4d60-973b-d5af35e23c07",
   "metadata": {},
   "outputs": [],
   "source": [
    "import os\n",
    "import google.generativeai as genai\n",
    "\n",
    "# Create a generative model object\n",
    "model = genai.GenerativeModel('gemini-pro')\n",
    "\n",
    "# Generate an image\n",
    "prompt = \"A beautiful landscape painting of a mountain range with a river flowing through it.\"\n",
    "image = model.generate(prompt)\n",
    "\n",
    "# Save the image to a file\n",
    "image.save(\"landscape.png\")"
   ]
  },
  {
   "cell_type": "code",
   "execution_count": null,
   "id": "111e2252-7c24-47f5-bdb6-16367f08c946",
   "metadata": {},
   "outputs": [],
   "source": []
  }
 ],
 "metadata": {
  "kernelspec": {
   "display_name": "Python 3 (ipykernel)",
   "language": "python",
   "name": "python3"
  },
  "language_info": {
   "codemirror_mode": {
    "name": "ipython",
    "version": 3
   },
   "file_extension": ".py",
   "mimetype": "text/x-python",
   "name": "python",
   "nbconvert_exporter": "python",
   "pygments_lexer": "ipython3",
   "version": "3.10.12"
  }
 },
 "nbformat": 4,
 "nbformat_minor": 5
}
